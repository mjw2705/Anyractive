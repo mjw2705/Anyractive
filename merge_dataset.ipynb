{
 "cells": [
  {
   "cell_type": "code",
   "execution_count": 1,
   "metadata": {
    "collapsed": true,
    "pycharm": {
     "name": "#%%\n"
    }
   },
   "outputs": [],
   "source": [
    "import os\n",
    "import numpy as np\n",
    "import collections"
   ]
  },
  {
   "cell_type": "code",
   "execution_count": 2,
   "outputs": [],
   "source": [
    "actions = ['palm', 'quiet', 'grab', 'pinch']\n",
    "path = './dataset'"
   ],
   "metadata": {
    "collapsed": false,
    "pycharm": {
     "name": "#%%\n"
    }
   }
  },
  {
   "cell_type": "code",
   "execution_count": 3,
   "outputs": [
    {
     "name": "stdout",
     "output_type": "stream",
     "text": [
      "(24010, 99)\n"
     ]
    }
   ],
   "source": [
    "left_path = f'{path}/last_dataset/left_dataset'\n",
    "right_path = f'{path}/last_dataset/right_dataset'\n",
    "\n",
    "for i, action in enumerate(actions):\n",
    "    left_data = np.load(f'{left_path}/raw_{action}.npy')\n",
    "    right_data = np.load(f'{right_path}/raw_{action}.npy')\n",
    "\n",
    "    data = np.concatenate((left_data, right_data), axis=0)\n",
    "\n",
    "    if i == 0:\n",
    "        data1 = data\n",
    "    else:\n",
    "        data1 = np.concatenate((data1, data), axis=0)\n",
    "\n",
    "x_data1 = data1[:, :-1]\n",
    "labels1 = data1[:, -1]\n",
    "print(x_data1.shape)"
   ],
   "metadata": {
    "collapsed": false,
    "pycharm": {
     "name": "#%%\n"
    }
   }
  },
  {
   "cell_type": "code",
   "execution_count": 4,
   "outputs": [
    {
     "name": "stdout",
     "output_type": "stream",
     "text": [
      "(48011, 99)\n"
     ]
    }
   ],
   "source": [
    "left_path = f'{path}/last_dataset2/left_dataset'\n",
    "right_path = f'{path}/last_dataset2/right_dataset'\n",
    "\n",
    "for i, action in enumerate(actions):\n",
    "    left_data = np.load(f'{left_path}/raw_{action}.npy')\n",
    "    right_data = np.load(f'{right_path}/raw_{action}.npy')\n",
    "\n",
    "    data = np.concatenate((left_data, right_data), axis=0)\n",
    "\n",
    "    if i == 0:\n",
    "        data2 = data\n",
    "    else:\n",
    "        data2 = np.concatenate((data2, data), axis=0)\n",
    "\n",
    "\n",
    "x_data2 = data2[:, :-1]\n",
    "labels2 = data2[:, -1]\n",
    "print(x_data2.shape)"
   ],
   "metadata": {
    "collapsed": false,
    "pycharm": {
     "name": "#%%\n"
    }
   }
  },
  {
   "cell_type": "code",
   "execution_count": 5,
   "outputs": [
    {
     "name": "stdout",
     "output_type": "stream",
     "text": [
      "(43184, 99)\n"
     ]
    }
   ],
   "source": [
    "left_path = f'{path}/last_dataset3/left_dataset'\n",
    "right_path = f'{path}/last_dataset3/right_dataset'\n",
    "\n",
    "for i, action in enumerate(actions):\n",
    "    left_data = np.load(f'{left_path}/raw_{action}.npy')\n",
    "    right_data = np.load(f'{right_path}/raw_{action}.npy')\n",
    "\n",
    "    data = np.concatenate((left_data, right_data), axis=0)\n",
    "\n",
    "    if i == 0:\n",
    "        data3 = data\n",
    "    else:\n",
    "        data3 = np.concatenate((data3, data), axis=0)\n",
    "\n",
    "\n",
    "x_data3 = data3[:, :-1]\n",
    "labels3 = data3[:, -1]\n",
    "print(x_data3.shape)"
   ],
   "metadata": {
    "collapsed": false,
    "pycharm": {
     "name": "#%%\n"
    }
   }
  },
  {
   "cell_type": "code",
   "execution_count": 6,
   "outputs": [
    {
     "name": "stdout",
     "output_type": "stream",
     "text": [
      "(42941, 99)\n"
     ]
    }
   ],
   "source": [
    "left_path = f'{path}/last_dataset4/left_dataset'\n",
    "right_path = f'{path}/last_dataset4/right_dataset'\n",
    "\n",
    "for i, action in enumerate(actions):\n",
    "    left_data = np.load(f'{left_path}/raw_{action}.npy')\n",
    "    right_data = np.load(f'{right_path}/raw_{action}.npy')\n",
    "\n",
    "    data = np.concatenate((left_data, right_data), axis=0)\n",
    "\n",
    "    if i == 0:\n",
    "        data4 = data\n",
    "    else:\n",
    "        data4 = np.concatenate((data4, data), axis=0)\n",
    "\n",
    "x_data4 = data4[:, :-1]\n",
    "labels4 = data4[:, -1]\n",
    "print(x_data4.shape)"
   ],
   "metadata": {
    "collapsed": false,
    "pycharm": {
     "name": "#%%\n"
    }
   }
  },
  {
   "cell_type": "code",
   "execution_count": 7,
   "outputs": [
    {
     "name": "stdout",
     "output_type": "stream",
     "text": [
      "(10792, 99)\n"
     ]
    }
   ],
   "source": [
    "left_path = f'{path}/pinch_dataset/pinch_left_dataset'\n",
    "right_path = f'{path}/pinch_dataset/pinch_right_dataset'\n",
    "\n",
    "\n",
    "left_data = np.load(f'{left_path}/raw_pinch.npy')\n",
    "right_data = np.load(f'{right_path}/raw_pinch.npy')\n",
    "\n",
    "data5 = np.concatenate((left_data, right_data), axis=0)\n",
    "\n",
    "x_data5 = data5[:, :-1]\n",
    "labels5 = data5[:, -1]\n",
    "print(x_data5.shape)"
   ],
   "metadata": {
    "collapsed": false,
    "pycharm": {
     "name": "#%%\n"
    }
   }
  },
  {
   "cell_type": "code",
   "execution_count": 8,
   "outputs": [
    {
     "name": "stdout",
     "output_type": "stream",
     "text": [
      "(10670, 99)\n"
     ]
    }
   ],
   "source": [
    "left_path = f'{path}/pinch_dataset/pinch_left_dataset1'\n",
    "right_path = f'{path}/pinch_dataset/pinch_right_dataset1'\n",
    "\n",
    "\n",
    "left_data = np.load(f'{left_path}/raw_pinch.npy')\n",
    "right_data = np.load(f'{right_path}/raw_pinch.npy')\n",
    "\n",
    "data6 = np.concatenate((left_data, right_data), axis=0)\n",
    "\n",
    "x_data6 = data6[:, :-1]\n",
    "labels6 = data6[:, -1]\n",
    "print(x_data6.shape)\n"
   ],
   "metadata": {
    "collapsed": false,
    "pycharm": {
     "name": "#%%\n"
    }
   }
  },
  {
   "cell_type": "code",
   "execution_count": 9,
   "outputs": [
    {
     "name": "stdout",
     "output_type": "stream",
     "text": [
      "(10342, 99)\n"
     ]
    }
   ],
   "source": [
    "left_path = f'{path}/grab_dataset/grab_left_dataset'\n",
    "right_path = f'{path}/grab_dataset/grab_right_dataset'\n",
    "\n",
    "\n",
    "left_data = np.load(f'{left_path}/raw_grab.npy')\n",
    "right_data = np.load(f'{right_path}/raw_grab.npy')\n",
    "\n",
    "data7 = np.concatenate((left_data, right_data), axis=0)\n",
    "\n",
    "x_data7 = data7[:, :-1]\n",
    "labels7 = data7[:, -1]\n",
    "print(x_data7.shape)"
   ],
   "metadata": {
    "collapsed": false,
    "pycharm": {
     "name": "#%%\n"
    }
   }
  },
  {
   "cell_type": "code",
   "execution_count": 10,
   "outputs": [
    {
     "name": "stdout",
     "output_type": "stream",
     "text": [
      "(5979, 99)\n"
     ]
    }
   ],
   "source": [
    "left_path = f'{path}/palm_dataset/palm_leftdataset'\n",
    "right_path = f'{path}/palm_dataset/palm_rightdataset'\n",
    "\n",
    "\n",
    "left_data = np.load(f'{left_path}/raw_palm.npy')\n",
    "right_data = np.load(f'{right_path}/raw_palm.npy')\n",
    "\n",
    "data8 = np.concatenate((left_data, right_data), axis=0)\n",
    "\n",
    "x_data8 = data8[:, :-1]\n",
    "labels8 = data8[:, -1]\n",
    "print(x_data8.shape)"
   ],
   "metadata": {
    "collapsed": false,
    "pycharm": {
     "name": "#%%\n"
    }
   }
  },
  {
   "cell_type": "code",
   "execution_count": 11,
   "outputs": [
    {
     "name": "stdout",
     "output_type": "stream",
     "text": [
      "(5997, 99)\n"
     ]
    }
   ],
   "source": [
    "left_path = f'{path}/quiet_dataset/quiet_leftdataset'\n",
    "right_path = f'{path}/quiet_dataset/quiet_rightdataset'\n",
    "\n",
    "\n",
    "left_data = np.load(f'{left_path}/raw_quiet.npy')\n",
    "right_data = np.load(f'{right_path}/raw_quiet.npy')\n",
    "\n",
    "data9 = np.concatenate((left_data, right_data), axis=0)\n",
    "\n",
    "x_data9 = data9[:, :-1]\n",
    "labels9 = data9[:, -1]\n",
    "print(x_data9.shape)"
   ],
   "metadata": {
    "collapsed": false,
    "pycharm": {
     "name": "#%%\n"
    }
   }
  },
  {
   "cell_type": "code",
   "execution_count": 12,
   "outputs": [
    {
     "name": "stdout",
     "output_type": "stream",
     "text": [
      "(8227, 99)\n"
     ]
    }
   ],
   "source": [
    "left_path = f'{path}/grab_dataset2/grab_left_dataset'\n",
    "right_path = f'{path}/grab_dataset2/grab_right_dataset'\n",
    "\n",
    "\n",
    "left_data = np.load(f'{left_path}/raw_grab.npy')\n",
    "right_data = np.load(f'{right_path}/raw_grab.npy')\n",
    "\n",
    "data10 = np.concatenate((left_data, right_data), axis=0)\n",
    "\n",
    "x_data10 = data10[:, :-1]\n",
    "labels10 = data10[:, -1]\n",
    "print(x_data10.shape)"
   ],
   "metadata": {
    "collapsed": false,
    "pycharm": {
     "name": "#%%\n"
    }
   }
  },
  {
   "cell_type": "code",
   "execution_count": 13,
   "outputs": [
    {
     "name": "stdout",
     "output_type": "stream",
     "text": [
      "(8370, 99)\n"
     ]
    }
   ],
   "source": [
    "left_path = f'{path}/pinch_dataset2/pinch_left_dataset'\n",
    "right_path = f'{path}/pinch_dataset2/pinch_right_dataset'\n",
    "\n",
    "\n",
    "left_data = np.load(f'{left_path}/raw_pinch.npy')\n",
    "right_data = np.load(f'{right_path}/raw_pinch.npy')\n",
    "\n",
    "data11 = np.concatenate((left_data, right_data), axis=0)\n",
    "\n",
    "x_data11 = data11[:, :-1]\n",
    "labels11 = data11[:, -1]\n",
    "print(x_data11.shape)"
   ],
   "metadata": {
    "collapsed": false,
    "pycharm": {
     "name": "#%%\n"
    }
   }
  },
  {
   "cell_type": "code",
   "execution_count": 14,
   "outputs": [
    {
     "name": "stdout",
     "output_type": "stream",
     "text": [
      "(7757, 99)\n"
     ]
    }
   ],
   "source": [
    "left_path = f'{path}/palm_dataset2/palm_left_dataset'\n",
    "right_path = f'{path}/palm_dataset2/palm_right_dataset'\n",
    "\n",
    "\n",
    "left_data = np.load(f'{left_path}/raw_palm.npy')\n",
    "right_data = np.load(f'{right_path}/raw_palm.npy')\n",
    "\n",
    "data12 = np.concatenate((left_data, right_data), axis=0)\n",
    "\n",
    "x_data12 = data12[:, :-1]\n",
    "labels12 = data12[:, -1]\n",
    "print(x_data12.shape)"
   ],
   "metadata": {
    "collapsed": false,
    "pycharm": {
     "name": "#%%\n"
    }
   }
  },
  {
   "cell_type": "code",
   "execution_count": 15,
   "outputs": [
    {
     "name": "stdout",
     "output_type": "stream",
     "text": [
      "(226280, 100)\n",
      "Counter({3.0: 69441, 2.0: 58177, 0.0: 53077, 1.0: 45585})\n"
     ]
    }
   ],
   "source": [
    "total_data = np.concatenate((data1, data2, data3, data4, data5, data6, data7, data8, data9, data10, data11, data12))\n",
    "print(total_data.shape)\n",
    "\n",
    "y = total_data[:, -1]\n",
    "\n",
    "print(collections.Counter(y))"
   ],
   "metadata": {
    "collapsed": false,
    "pycharm": {
     "name": "#%%\n"
    }
   }
  },
  {
   "cell_type": "code",
   "execution_count": 16,
   "outputs": [],
   "source": [
    "dir = 'dataset'\n",
    "np.save(os.path.join(dir, f'raw_data'), total_data)\n",
    "\n",
    "\n",
    "\n",
    "\n"
   ],
   "metadata": {
    "collapsed": false,
    "pycharm": {
     "name": "#%%\n"
    }
   }
  }
 ],
 "metadata": {
  "kernelspec": {
   "display_name": "Python 3",
   "language": "python",
   "name": "python3"
  },
  "language_info": {
   "codemirror_mode": {
    "name": "ipython",
    "version": 2
   },
   "file_extension": ".py",
   "mimetype": "text/x-python",
   "name": "python",
   "nbconvert_exporter": "python",
   "pygments_lexer": "ipython2",
   "version": "2.7.6"
  }
 },
 "nbformat": 4,
 "nbformat_minor": 0
}